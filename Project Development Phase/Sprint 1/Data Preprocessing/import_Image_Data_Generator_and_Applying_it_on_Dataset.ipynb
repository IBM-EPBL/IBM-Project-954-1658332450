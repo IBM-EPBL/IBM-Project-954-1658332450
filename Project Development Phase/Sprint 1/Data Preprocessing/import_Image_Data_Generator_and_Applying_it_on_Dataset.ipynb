{
  "nbformat": 4,
  "nbformat_minor": 0,
  "metadata": {
    "colab": {
      "provenance": []
    },
    "kernelspec": {
      "name": "python3",
      "display_name": "Python 3"
    },
    "language_info": {
      "name": "python"
    }
  },
  "cells": [
    {
      "cell_type": "code",
      "source": [
        "from keras.preprocessing.image import ImageDataGenerator"
      ],
      "metadata": {
        "id": "yW4-NUH9V-BY"
      },
      "execution_count": 1,
      "outputs": []
    },
    {
      "cell_type": "code",
      "source": [
        "train_datagen = ImageDataGenerator(rescale = 1./255, zoom_range = 0.2, horizontal_flip = True)\n",
        "test_datagen = ImageDataGenerator(rescale = 1./255)"
      ],
      "metadata": {
        "id": "ICWMA9_wWTRh"
      },
      "execution_count": 2,
      "outputs": []
    },
    {
      "cell_type": "code",
      "source": [
        "X_train = train_datagen.flow_from_directory('/content/drive/MyDrive/Dataset/IBM/Dataset/training_set',target_size = (64,64), batch_size = 300, class_mode = 'categorical', color_mode = 'grayscale')"
      ],
      "metadata": {
        "colab": {
          "base_uri": "https://localhost:8080/"
        },
        "id": "wJLvdOg3WinF",
        "outputId": "60d521c4-22b1-43e4-fe3b-9078cd998b75"
      },
      "execution_count": 3,
      "outputs": [
        {
          "output_type": "stream",
          "name": "stdout",
          "text": [
            "Found 15750 images belonging to 9 classes.\n"
          ]
        }
      ]
    },
    {
      "cell_type": "code",
      "source": [
        "X_test = test_datagen.flow_from_directory('/content/drive/MyDrive/Dataset/IBM/Dataset/test_set',batch_size = 300, target_size = (64,64), class_mode = 'categorical', color_mode = 'grayscale')"
      ],
      "metadata": {
        "colab": {
          "base_uri": "https://localhost:8080/"
        },
        "id": "xTmlH63nam-3",
        "outputId": "9d98f042-ce85-4690-e7a6-2fa141514bd3"
      },
      "execution_count": 4,
      "outputs": [
        {
          "output_type": "stream",
          "name": "stdout",
          "text": [
            "Found 2250 images belonging to 9 classes.\n"
          ]
        }
      ]
    }
  ]
}