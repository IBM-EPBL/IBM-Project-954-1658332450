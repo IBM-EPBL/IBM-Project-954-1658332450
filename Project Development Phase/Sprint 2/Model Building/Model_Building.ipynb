{
  "cells": [
    {
      "cell_type": "code",
      "execution_count": 1,
      "metadata": {
        "id": "9yy1234uuQ1P"
      },
      "outputs": [],
      "source": [
        "from keras.preprocessing.image import ImageDataGenerator\n",
        "train_datagen = ImageDataGenerator(rescale = 1./255, shear_range = 0.2, zoom_range = 0.2, horizontal_flip = True)\n",
        "test_datagen = ImageDataGenerator(rescale = 1./255)"
      ]
    },
    {
      "cell_type": "code",
      "execution_count": 2,
      "metadata": {
        "id": "qpxvySbGvZ5N"
      },
      "outputs": [],
      "source": [
        "from keras.models import Sequential\n",
        "from keras.layers import Dense\n",
        "from keras.layers import Convolution2D\n",
        "from keras.layers import MaxPooling2D\n",
        "from keras.layers import Dropout\n",
        "from keras.layers import Flatten"
      ]
    },
    {
      "cell_type": "code",
      "execution_count": 3,
      "metadata": {
        "colab": {
          "base_uri": "https://localhost:8080/"
        },
        "id": "D31RkPa5wYyf",
        "outputId": "b05f4309-b32c-4f1b-e7ce-cf5fe8c5f089"
      },
      "outputs": [
        {
          "output_type": "stream",
          "name": "stdout",
          "text": [
            "Found 15750 images belonging to 9 classes.\n"
          ]
        }
      ],
      "source": [
        "X_train = train_datagen.flow_from_directory('/content/Dataset/training_set', target_size = (64,64), batch_size = 300 , class_mode = 'categorical', color_mode = 'grayscale')"
      ]
    },
    {
      "cell_type": "code",
      "execution_count": 4,
      "metadata": {
        "colab": {
          "base_uri": "https://localhost:8080/"
        },
        "id": "eBFI_IPyxM7O",
        "outputId": "9095c5b6-ac46-49cf-8d96-b256837fe48c"
      },
      "outputs": [
        {
          "output_type": "stream",
          "name": "stdout",
          "text": [
            "Found 2250 images belonging to 9 classes.\n"
          ]
        }
      ],
      "source": [
        "X_test = test_datagen.flow_from_directory('/content/Dataset/test_set', target_size = (64,64), batch_size = 300, class_mode = 'categorical', color_mode = 'grayscale')"
      ]
    },
    {
      "cell_type": "code",
      "execution_count": 5,
      "metadata": {
        "id": "rCGe4xPix_1v"
      },
      "outputs": [],
      "source": [
        "model = Sequential()\n",
        "model.add(Convolution2D(32,(3,3), input_shape = (64,64,1), activation = 'relu'))\n",
        "model.add(MaxPooling2D(pool_size = (2,2)))\n",
        "model.add(Flatten())\n",
        "model.add(Dense(units = 512, activation = 'relu'))\n",
        "model.add(Dense(units = 256, activation = 'relu'))\n",
        "model.add(Dense(units = 128, activation = 'relu'))\n",
        "model.add(Dense(units = 64, activation = 'relu'))\n",
        "model.add(Dense(units = 9, activation = 'softmax'))"
      ]
    },
    {
      "cell_type": "code",
      "execution_count": 6,
      "metadata": {
        "id": "tiicd7MjzH3X"
      },
      "outputs": [],
      "source": [
        "model.compile(loss = 'categorical_crossentropy', optimizer = 'adam', metrics = ['accuracy'])"
      ]
    },
    {
      "cell_type": "code",
      "source": [
        "model.fit(X_train, steps_per_epoch = len(X_train),epochs=10, validation_data = X_test, validation_steps= len(X_test))"
      ],
      "metadata": {
        "colab": {
          "base_uri": "https://localhost:8080/"
        },
        "id": "0BMDClj5-mAm",
        "outputId": "c1216055-b706-4c89-d611-218efc721988"
      },
      "execution_count": 7,
      "outputs": [
        {
          "output_type": "stream",
          "name": "stdout",
          "text": [
            "Epoch 1/10\n",
            "53/53 [==============================] - 20s 323ms/step - loss: 0.6905 - accuracy: 0.7589 - val_loss: 0.2049 - val_accuracy: 0.9404\n",
            "Epoch 2/10\n",
            "53/53 [==============================] - 13s 246ms/step - loss: 0.0775 - accuracy: 0.9773 - val_loss: 0.1749 - val_accuracy: 0.9738\n",
            "Epoch 3/10\n",
            "53/53 [==============================] - 13s 240ms/step - loss: 0.0266 - accuracy: 0.9930 - val_loss: 0.2277 - val_accuracy: 0.9756\n",
            "Epoch 4/10\n",
            "53/53 [==============================] - 13s 241ms/step - loss: 0.0169 - accuracy: 0.9954 - val_loss: 0.2426 - val_accuracy: 0.9782\n",
            "Epoch 5/10\n",
            "53/53 [==============================] - 13s 243ms/step - loss: 0.0113 - accuracy: 0.9972 - val_loss: 0.2347 - val_accuracy: 0.9778\n",
            "Epoch 6/10\n",
            "53/53 [==============================] - 13s 244ms/step - loss: 0.0100 - accuracy: 0.9973 - val_loss: 0.1532 - val_accuracy: 0.9809\n",
            "Epoch 7/10\n",
            "53/53 [==============================] - 13s 251ms/step - loss: 0.0065 - accuracy: 0.9982 - val_loss: 0.2477 - val_accuracy: 0.9760\n",
            "Epoch 8/10\n",
            "53/53 [==============================] - 13s 239ms/step - loss: 0.0036 - accuracy: 0.9989 - val_loss: 0.2555 - val_accuracy: 0.9782\n",
            "Epoch 9/10\n",
            "53/53 [==============================] - 13s 241ms/step - loss: 0.0037 - accuracy: 0.9991 - val_loss: 0.2666 - val_accuracy: 0.9769\n",
            "Epoch 10/10\n",
            "53/53 [==============================] - 13s 244ms/step - loss: 0.0033 - accuracy: 0.9991 - val_loss: 0.2840 - val_accuracy: 0.9769\n"
          ]
        },
        {
          "output_type": "execute_result",
          "data": {
            "text/plain": [
              "<keras.callbacks.History at 0x7fc9c2b6e9d0>"
            ]
          },
          "metadata": {},
          "execution_count": 7
        }
      ]
    },
    {
      "cell_type": "code",
      "execution_count": 8,
      "metadata": {
        "id": "p6wN_SfY0TI7",
        "colab": {
          "base_uri": "https://localhost:8080/"
        },
        "outputId": "b5bca48b-b7b1-417d-fc3f-4a0cd5ed47d1"
      },
      "outputs": [
        {
          "output_type": "stream",
          "name": "stdout",
          "text": [
            "Model: \"sequential\"\n",
            "_________________________________________________________________\n",
            " Layer (type)                Output Shape              Param #   \n",
            "=================================================================\n",
            " conv2d (Conv2D)             (None, 62, 62, 32)        320       \n",
            "                                                                 \n",
            " max_pooling2d (MaxPooling2D  (None, 31, 31, 32)       0         \n",
            " )                                                               \n",
            "                                                                 \n",
            " flatten (Flatten)           (None, 30752)             0         \n",
            "                                                                 \n",
            " dense (Dense)               (None, 512)               15745536  \n",
            "                                                                 \n",
            " dense_1 (Dense)             (None, 256)               131328    \n",
            "                                                                 \n",
            " dense_2 (Dense)             (None, 128)               32896     \n",
            "                                                                 \n",
            " dense_3 (Dense)             (None, 64)                8256      \n",
            "                                                                 \n",
            " dense_4 (Dense)             (None, 9)                 585       \n",
            "                                                                 \n",
            "=================================================================\n",
            "Total params: 15,918,921\n",
            "Trainable params: 15,918,921\n",
            "Non-trainable params: 0\n",
            "_________________________________________________________________\n"
          ]
        }
      ],
      "source": [
        "model.summary()"
      ]
    },
    {
      "cell_type": "code",
      "source": [
        "model.save('Model.h5')"
      ],
      "metadata": {
        "id": "r39cQxglFCbZ"
      },
      "execution_count": 9,
      "outputs": []
    },
    {
      "cell_type": "code",
      "source": [],
      "metadata": {
        "id": "Yc8HzmZgPEFi"
      },
      "execution_count": null,
      "outputs": []
    }
  ],
  "metadata": {
    "accelerator": "GPU",
    "colab": {
      "provenance": []
    },
    "gpuClass": "standard",
    "kernelspec": {
      "display_name": "Python 3",
      "name": "python3"
    },
    "language_info": {
      "name": "python"
    }
  },
  "nbformat": 4,
  "nbformat_minor": 0
}